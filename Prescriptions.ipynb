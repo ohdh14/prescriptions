{
 "metadata": {
  "name": "",
  "signature": "sha256:dc3b2e92b26c1f913a5c63e73d5b0c773a1123892737f047d5f19697ccb893e8"
 },
 "nbformat": 3,
 "nbformat_minor": 0,
 "worksheets": [
  {
   "cells": [
    {
     "cell_type": "code",
     "collapsed": false,
     "input": [
      "import numpy as np\n",
      "import pandas as pd\n",
      "from glob import glob\n",
      "from os import path\n",
      "from datetime import datetime"
     ],
     "language": "python",
     "metadata": {},
     "outputs": [],
     "prompt_number": 15
    },
    {
     "cell_type": "code",
     "collapsed": false,
     "input": [
      "months = {'Jan': 1, 'Feb': 2, 'Mar': 3, 'Apr': 4, 'May': 5, 'Jun': 6, 'Jul': 7, 'Aug': 8, 'Sep': 9, 'Oct': 10, 'Nov': 11, 'Dec': 12}"
     ],
     "language": "python",
     "metadata": {},
     "outputs": [],
     "prompt_number": 16
    },
    {
     "cell_type": "code",
     "collapsed": false,
     "input": [
      "files = glob('data/uk-nhs-gp-prescriptions/nhs-prescriptions-costs-aug13-aug14/*.xls*')\n",
      "files = glob('/Users/wellermatt/data/prescriptions/*.xls*')\n",
      "print(files)"
     ],
     "language": "python",
     "metadata": {},
     "outputs": [
      {
       "output_type": "stream",
       "stream": "stdout",
       "text": [
        "['/Users/wellermatt/data/prescriptions/PCA_Apr_14.xlsx', '/Users/wellermatt/data/prescriptions/PCA_Aug_13.xls', '/Users/wellermatt/data/prescriptions/PCA_Aug_14.xlsx', '/Users/wellermatt/data/prescriptions/PCA_Dec_13.xls', '/Users/wellermatt/data/prescriptions/PCA_Feb_14.xlsx', '/Users/wellermatt/data/prescriptions/PCA_Jan_14.xlsx', '/Users/wellermatt/data/prescriptions/PCA_Jul_14.xlsx', '/Users/wellermatt/data/prescriptions/PCA_Jun_14.xlsx', '/Users/wellermatt/data/prescriptions/PCA_Mar_14.xlsx', '/Users/wellermatt/data/prescriptions/PCA_May_14.xlsx', '/Users/wellermatt/data/prescriptions/PCA_Nov_13.xls', '/Users/wellermatt/data/prescriptions/PCA_Oct_13.xls', '/Users/wellermatt/data/prescriptions/PCA_Sep_13.xls']\n"
       ]
      }
     ],
     "prompt_number": 20
    },
    {
     "cell_type": "code",
     "collapsed": false,
     "input": [
      "def read_file(fname):\n",
      "    basename = path.split(fname)[-1].split('.')[0]\n",
      "    _, month, year = basename.split('_')\n",
      "    date = datetime(2000 + int(year), months[month], 1)\n",
      "    df = pd.read_excel(fname, header=1)\n",
      "    df['date'] = pd.Series(date, np.arange(len(df)))\n",
      "    return df"
     ],
     "language": "python",
     "metadata": {},
     "outputs": [],
     "prompt_number": 21
    },
    {
     "cell_type": "code",
     "collapsed": false,
     "input": [
      "df = pd.concat([read_file(f) for f in files])"
     ],
     "language": "python",
     "metadata": {},
     "outputs": [
      {
       "output_type": "stream",
       "stream": "stdout",
       "text": [
        "WARNING *** file size (6432107) not 512 + multiple of sector size (512)\n"
       ]
      }
     ],
     "prompt_number": 22
    },
    {
     "cell_type": "code",
     "collapsed": false,
     "input": [
      "print(df[:3])"
     ],
     "language": "python",
     "metadata": {},
     "outputs": [
      {
       "output_type": "stream",
       "stream": "stdout",
       "text": [
        "          BNF Code                          BNF Section Name  \\\n",
        "0  0101010C0BBAAAA  Dyspep&Gastro-Oesophageal Reflux Disease   \n",
        "1  0101010F0AAAUAU  Dyspep&Gastro-Oesophageal Reflux Disease   \n",
        "2  0101010F0BCAAAU  Dyspep&Gastro-Oesophageal Reflux Disease   \n",
        "\n",
        "     BNF Chemical Name                Drug Name   Preparation Class  \\\n",
        "0  Aluminium Hydroxide         Alu-Cap_Cap 475mg                  3   \n",
        "1  Magnesium Carbonate  Mag Carb_Heavy Cap 500mg                  1   \n",
        "2  Magnesium Carbonate       Magnesite_Cap 500mg                  3   \n",
        "\n",
        "   Standard Quantity Unit  Items Dispensed  Items of which Class 2  Quantity  \\\n",
        "0                       1              686                     356     66479   \n",
        "1                       1               23                       0      3592   \n",
        "2                       1               13                       0      1836   \n",
        "\n",
        "   Quantity of which Class 2  Net Ingredient Cost (p)  \\\n",
        "0                      31366                   759565   \n",
        "1                          0                   765137   \n",
        "2                          0                   564264   \n",
        "\n",
        "   Net Ingredient Cost of which Class 2 (p)       date  \n",
        "0                                    358380 2014-04-01  \n",
        "1                                         0 2014-04-01  \n",
        "2                                         0 2014-04-01  \n"
       ]
      }
     ],
     "prompt_number": 24
    },
    {
     "cell_type": "code",
     "collapsed": false,
     "input": [],
     "language": "python",
     "metadata": {},
     "outputs": []
    }
   ],
   "metadata": {}
  }
 ]
}